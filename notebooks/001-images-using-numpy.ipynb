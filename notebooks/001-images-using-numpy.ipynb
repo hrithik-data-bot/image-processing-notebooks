{
 "cells": [
  {
   "cell_type": "markdown",
   "id": "b108d8b8-cf93-4eca-912f-53442766d4b5",
   "metadata": {},
   "source": [
    "## Introduction"
   ]
  },
  {
   "cell_type": "markdown",
   "id": "2c628953-247c-4355-890b-619b23779bbc",
   "metadata": {},
   "source": [
    "This notebook shows how to display images as arrays using numpy, PIL and matplotlib."
   ]
  },
  {
   "cell_type": "markdown",
   "id": "0f95d80a-beb6-43e6-9512-a1dedd6f3aef",
   "metadata": {},
   "source": [
    "## Setup"
   ]
  },
  {
   "cell_type": "code",
   "execution_count": 1,
   "id": "0ebd3128-c2d1-4fa5-a52d-5a478bdc49b5",
   "metadata": {},
   "outputs": [],
   "source": [
    "import numpy as np\n",
    "from matplotlib import pyplot as plt\n",
    "from PIL import Image"
   ]
  },
  {
   "cell_type": "code",
   "execution_count": null,
   "id": "bf7aad11-80d9-4f83-a8f1-7afaf0752503",
   "metadata": {},
   "outputs": [],
   "source": []
  }
 ],
 "metadata": {
  "kernelspec": {
   "display_name": "image-processing",
   "language": "python",
   "name": "image-processing"
  },
  "language_info": {
   "codemirror_mode": {
    "name": "ipython",
    "version": 3
   },
   "file_extension": ".py",
   "mimetype": "text/x-python",
   "name": "python",
   "nbconvert_exporter": "python",
   "pygments_lexer": "ipython3",
   "version": "3.10.6"
  }
 },
 "nbformat": 4,
 "nbformat_minor": 5
}
