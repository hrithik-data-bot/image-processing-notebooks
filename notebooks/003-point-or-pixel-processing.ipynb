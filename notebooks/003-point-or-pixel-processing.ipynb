{
 "cells": [
  {
   "cell_type": "markdown",
   "id": "ac092549-e4d2-4a8b-92bf-3cf5761b31e7",
   "metadata": {},
   "source": [
    "## Introduction"
   ]
  },
  {
   "cell_type": "markdown",
   "id": "cb4cd806-ebfc-4f0a-8fe1-84ecf444155f",
   "metadata": {},
   "source": [
    "This notebook depicts the simplest processing on image known as point or pixel processing."
   ]
  },
  {
   "cell_type": "markdown",
   "id": "529a14a0-38f5-435e-bb92-9b1507acc039",
   "metadata": {},
   "source": [
    "## Setup"
   ]
  },
  {
   "cell_type": "code",
   "execution_count": 1,
   "id": "84aee168-0be8-4d12-967a-89c6299c5a4b",
   "metadata": {},
   "outputs": [],
   "source": [
    "import numpy as np\n",
    "from matplotlib import pyplot as plt\n",
    "import cv2\n",
    "from PIL import Image"
   ]
  },
  {
   "cell_type": "markdown",
   "id": "f1ed89d0-994c-4702-aad2-957e41ecc640",
   "metadata": {},
   "source": [
    "## Images"
   ]
  },
  {
   "cell_type": "code",
   "execution_count": 22,
   "id": "fca79c74-607a-4aec-be08-b1e4bca30397",
   "metadata": {},
   "outputs": [],
   "source": [
    "image_rgb = cv2.cvtColor(cv2.imread(\"DATA/00-puppy.jpg\"), cv2.COLOR_BGR2RGB)\n",
    "image_bw = cv2.imread(\"DATA/00-puppy.jpg\", cv2.IMREAD_GRAYSCALE)"
   ]
  },
  {
   "cell_type": "code",
   "execution_count": null,
   "id": "68e2d878-6849-4fce-a959-31b2f441574f",
   "metadata": {},
   "outputs": [],
   "source": []
  }
 ],
 "metadata": {
  "kernelspec": {
   "display_name": "image-processing",
   "language": "python",
   "name": "image-processing"
  },
  "language_info": {
   "codemirror_mode": {
    "name": "ipython",
    "version": 3
   },
   "file_extension": ".py",
   "mimetype": "text/x-python",
   "name": "python",
   "nbconvert_exporter": "python",
   "pygments_lexer": "ipython3",
   "version": "3.10.6"
  }
 },
 "nbformat": 4,
 "nbformat_minor": 5
}
