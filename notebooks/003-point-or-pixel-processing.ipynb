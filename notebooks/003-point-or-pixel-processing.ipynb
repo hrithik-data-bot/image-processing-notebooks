{
 "cells": [
  {
   "cell_type": "markdown",
   "id": "ac092549-e4d2-4a8b-92bf-3cf5761b31e7",
   "metadata": {},
   "source": [
    "## Introduction"
   ]
  },
  {
   "cell_type": "markdown",
   "id": "cb4cd806-ebfc-4f0a-8fe1-84ecf444155f",
   "metadata": {},
   "source": [
    "This notebook depicts the simplest processing on imge known as point or pixel processing."
   ]
  },
  {
   "cell_type": "markdown",
   "id": "529a14a0-38f5-435e-bb92-9b1507acc039",
   "metadata": {},
   "source": [
    "## Setup"
   ]
  },
  {
   "cell_type": "code",
   "execution_count": 1,
   "id": "84aee168-0be8-4d12-967a-89c6299c5a4b",
   "metadata": {},
   "outputs": [],
   "source": [
    "import numpy as np\n",
    "from matplotlib import pyplot as plt\n",
    "import cv2\n",
    "from PIL import Image"
   ]
  },
  {
   "cell_type": "code",
   "execution_count": null,
   "id": "c63caab0-0df4-4db3-9caa-c01e6a2ab941",
   "metadata": {},
   "outputs": [],
   "source": [
    "## "
   ]
  }
 ],
 "metadata": {
  "kernelspec": {
   "display_name": "image-processing",
   "language": "python",
   "name": "image-processing"
  },
  "language_info": {
   "codemirror_mode": {
    "name": "ipython",
    "version": 3
   },
   "file_extension": ".py",
   "mimetype": "text/x-python",
   "name": "python",
   "nbconvert_exporter": "python",
   "pygments_lexer": "ipython3",
   "version": "3.10.6"
  }
 },
 "nbformat": 4,
 "nbformat_minor": 5
}
